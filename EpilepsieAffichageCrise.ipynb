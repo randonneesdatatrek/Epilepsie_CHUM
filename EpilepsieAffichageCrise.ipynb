{
  "nbformat": 4,
  "nbformat_minor": 0,
  "metadata": {
    "colab": {
      "name": "EpilepsieAffichageCrise.ipynb",
      "provenance": []
    },
    "kernelspec": {
      "name": "python3",
      "display_name": "Python 3"
    }
  },
  "cells": [
    {
      "cell_type": "code",
      "metadata": {
        "colab": {
          "base_uri": "https://localhost:8080/"
        },
        "id": "VGN7pXnFkjnr",
        "outputId": "257ced12-d315-4577-9323-074c26570a34"
      },
      "source": [
        "!pip install pyedflib\r\n"
      ],
      "execution_count": 37,
      "outputs": [
        {
          "output_type": "stream",
          "text": [
            "Collecting pyedflib\n",
            "\u001b[?25l  Downloading https://files.pythonhosted.org/packages/4e/ef/3222490aea1003256150d2a5b3daebdc3e7e53d3766ade4640d182093b26/pyEDFlib-0.1.20.tar.gz (1.2MB)\n",
            "\u001b[K     |████████████████████████████████| 1.2MB 8.9MB/s \n",
            "\u001b[?25h  Installing build dependencies ... \u001b[?25l\u001b[?25hdone\n",
            "  Getting requirements to build wheel ... \u001b[?25l\u001b[?25hdone\n",
            "    Preparing wheel metadata ... \u001b[?25l\u001b[?25hdone\n",
            "Requirement already satisfied: numpy>=1.9.1 in /usr/local/lib/python3.6/dist-packages (from pyedflib) (1.19.5)\n",
            "Building wheels for collected packages: pyedflib\n",
            "  Building wheel for pyedflib (PEP 517) ... \u001b[?25l\u001b[?25hdone\n",
            "  Created wheel for pyedflib: filename=pyEDFlib-0.1.20-cp36-cp36m-linux_x86_64.whl size=928467 sha256=7374685aba411605a023ff0d83cda4f7ebc869af693fd0fd5f827c0f2eb05bfe\n",
            "  Stored in directory: /root/.cache/pip/wheels/0d/be/b5/574f8b99ad9ac2ecf78e0c5271040b5aff999febfe655b97a4\n",
            "Successfully built pyedflib\n",
            "Installing collected packages: pyedflib\n",
            "Successfully installed pyedflib-0.1.20\n"
          ],
          "name": "stdout"
        }
      ]
    },
    {
      "cell_type": "code",
      "metadata": {
        "id": "J9pavVYipVKu"
      },
      "source": [
        "import pyedflib\r\n",
        "from datetime import datetime\r\n",
        "import numpy as np"
      ],
      "execution_count": 43,
      "outputs": []
    },
    {
      "cell_type": "code",
      "metadata": {
        "colab": {
          "base_uri": "https://localhost:8080/",
          "height": 330
        },
        "id": "0-Y2SCcJk8jh",
        "outputId": "77fbe46b-6e94-42dc-cc2a-b7d42e7b11e9"
      },
      "source": [
        "\r\n",
        "\r\n",
        "\r\n",
        "\r\n",
        "\r\n",
        "file_name = 'record-206232_20200911.edf'  #make sure file is in current directory\r\n",
        "reader =pyedflib.EdfReader(\"record-206232_20200911.edf\")\r\n",
        "frequencies = reader.getSampleFrequencies()\r\n",
        "\r\n",
        "# you can get the metadata included in the file and a list of all channels:\r\n",
        "\r\n",
        "\r\n",
        "frequencies"
      ],
      "execution_count": 62,
      "outputs": [
        {
          "output_type": "error",
          "ename": "OSError",
          "evalue": "ignored",
          "traceback": [
            "\u001b[0;31m---------------------------------------------------------------------------\u001b[0m",
            "\u001b[0;31mOSError\u001b[0m                                   Traceback (most recent call last)",
            "\u001b[0;32m<ipython-input-62-2ceb2332f769>\u001b[0m in \u001b[0;36m<module>\u001b[0;34m()\u001b[0m\n\u001b[1;32m      5\u001b[0m \u001b[0;34m\u001b[0m\u001b[0m\n\u001b[1;32m      6\u001b[0m \u001b[0mfile_name\u001b[0m \u001b[0;34m=\u001b[0m \u001b[0;34m'record-206232_20200911.edf'\u001b[0m  \u001b[0;31m#make sure file is in current directory\u001b[0m\u001b[0;34m\u001b[0m\u001b[0;34m\u001b[0m\u001b[0m\n\u001b[0;32m----> 7\u001b[0;31m \u001b[0mreader\u001b[0m \u001b[0;34m=\u001b[0m\u001b[0mpyedflib\u001b[0m\u001b[0;34m.\u001b[0m\u001b[0mEdfReader\u001b[0m\u001b[0;34m(\u001b[0m\u001b[0;34m\"record-206232_20200911.edf\"\u001b[0m\u001b[0;34m)\u001b[0m\u001b[0;34m\u001b[0m\u001b[0;34m\u001b[0m\u001b[0m\n\u001b[0m\u001b[1;32m      8\u001b[0m \u001b[0mfrequencies\u001b[0m \u001b[0;34m=\u001b[0m \u001b[0mreader\u001b[0m\u001b[0;34m.\u001b[0m\u001b[0mgetSampleFrequencies\u001b[0m\u001b[0;34m(\u001b[0m\u001b[0;34m)\u001b[0m\u001b[0;34m\u001b[0m\u001b[0;34m\u001b[0m\u001b[0m\n\u001b[1;32m      9\u001b[0m \u001b[0;34m\u001b[0m\u001b[0m\n",
            "\u001b[0;32mpyedflib/_extensions/_pyedflib.pyx\u001b[0m in \u001b[0;36mpyedflib._extensions._pyedflib.CyEdfReader.__init__\u001b[0;34m()\u001b[0m\n",
            "\u001b[0;32mpyedflib/_extensions/_pyedflib.pyx\u001b[0m in \u001b[0;36mpyedflib._extensions._pyedflib.CyEdfReader.open\u001b[0;34m()\u001b[0m\n",
            "\u001b[0;32mpyedflib/_extensions/_pyedflib.pyx\u001b[0m in \u001b[0;36mpyedflib._extensions._pyedflib.CyEdfReader.check_open_ok\u001b[0;34m()\u001b[0m\n",
            "\u001b[0;31mOSError\u001b[0m: record-206232_20200911.edf: file has already been opened"
          ]
        }
      ]
    },
    {
      "cell_type": "code",
      "metadata": {
        "id": "2auwmZVymK3j"
      },
      "source": [
        "\r\n",
        "#Manually enter start date and seizure date \r\n",
        "\r\n",
        "start_date = datetime(2020, 9, 11, 15, 17, 8, 520) # Get this exact value from the hexoskin website chart\r\n",
        "sz_date = datetime(2020, 9, 11, 21, 18, 9, 926)\r\n",
        "sz_onset_sec = (sz_date-start_date).total_seconds()\r\n",
        "\r\n",
        "# Find the onset of the seizure in sec\r\n",
        "sz_onset_sec = (sz_date-start_date).total_seconds()\r\n",
        "\r\n",
        "\r\n",
        "# Find the onset of the seizure in datapoint for each modality\r\n",
        "\r\n",
        "sz_onset_dp_ECG = sz_onset_sec*frequencies.item(0);\r\n",
        "sz_onset_dp_Resp = sz_onset_sec*frequencies.item(3);\r\n",
        "sz_onset_dp_Acc = sz_onset_sec*frequencies.item(6);\r\n",
        "\r\n",
        "\r\n",
        "\r\n"
      ],
      "execution_count": 56,
      "outputs": []
    },
    {
      "cell_type": "code",
      "metadata": {
        "colab": {
          "base_uri": "https://localhost:8080/"
        },
        "id": "e5ZYfI0s13mR",
        "outputId": "78460823-a31b-472a-a5f8-df30b068fb67"
      },
      "source": [
        "# Select a window centered around electrical seizure onset \r\n",
        "win_start = 1 ; # time in minute before seizure onset \r\n",
        "win_end = 3 ; # time in minute after seizure onset \r\n",
        "\r\n",
        "# Find window start and length for each Modality\r\n",
        "\r\n",
        "win_start_dp_ECG= sz_onset_dp_ECG - (win_start*frequencies.item(0)*60)\r\n",
        "win_length_dp_ECG =  (win_end*frequencies.item(0)*60);\r\n",
        "\r\n",
        "\r\n",
        "window_ECG = reader.readSignal(0,win_start_dp_ECG,win_length_dp_ECG)\r\n",
        "\r\n",
        "\r\n",
        "win_start_dp_Resp= sz_onset_dp_Resp - (win_start*frequencies.item(3)*60)\r\n",
        "win_length_dp_Resp =  (win_end*frequencies.item(3)*60)-1\r\n",
        "window_Resp = reader.readSignal(3,win_start_dp_Resp,win_length_dp_Resp)\r\n",
        "\r\n",
        "\r\n",
        "\r\n",
        "win_start_dp_Acc= sz_onset_dp_Acc - (win_start*frequencies.item(3)*60)\r\n",
        "win_length_dp_Acc =  (win_end*frequencies.item(6)*60)-1\r\n",
        "window_Acc = reader.readSignal(0,win_start_dp_Acc,win_length_dp_Acc)\r\n",
        "\r\n",
        "\r\n",
        "# Select Signals of Interest and Create a supblot \r\n",
        "\r\n",
        "# Extract Physiological Signals \r\n",
        "\r\n",
        "ecg = reader.readSignal(0,win_start_dp_ECG,win_length_dp_ECG)\r\n",
        "\r\n",
        "respThor = reader.readSignal(3,win_start_dp_Resp,win_length_dp_ECG)\r\n",
        "respAbd =reader.readSignal(4,win_start_dp_Resp,win_length_dp_ECG)\r\n",
        "\r\n",
        "AccY =reader.readSignal(6,win_start_dp_ECG,win_length_dp_ECG)\r\n",
        "AccY =reader.readSignal(7,win_start_dp_ECG,win_length_dp_ECG)\r\n",
        "AccY =reader.readSignal(8,win_start_dp_ECG,win_length_dp_ECG)\r\n",
        "\r\n",
        "\r\n"
      ],
      "execution_count": 74,
      "outputs": [
        {
          "output_type": "stream",
          "text": [
            "5529600.001536\n",
            "46080\n",
            "read -1, less than 46080 requested!!!\n",
            "46080\n",
            "[0. 0. 0. ... 0. 0. 0.]\n",
            "read -1, less than 23039 requested!!!\n",
            "[0. 0. 0. ... 0. 0. 0.]\n",
            "read -1, less than 23039 requested!!!\n",
            "[0. 0. 0. ... 0. 0. 0.]\n"
          ],
          "name": "stdout"
        }
      ]
    }
  ]
}